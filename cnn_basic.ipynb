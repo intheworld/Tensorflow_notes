{
 "cells": [
  {
   "cell_type": "code",
   "execution_count": 1,
   "metadata": {},
   "outputs": [
    {
     "data": {
      "text/plain": [
       "TensorShape([Dimension(2), Dimension(2), Dimension(3), Dimension(3)])"
      ]
     },
     "execution_count": 1,
     "metadata": {},
     "output_type": "execute_result"
    }
   ],
   "source": [
    "import tensorflow as tf\n",
    "\n",
    "image_batch = tf.constant([\n",
    "    [   # 第1幅图像\n",
    "        [[0,255,0],[0,255,0],[0,255,0]],\n",
    "        [[0,255,0],[0,255,0],[0,255,0]]        \n",
    "    ],\n",
    "    [   # 第2幅图像\n",
    "        [[0,255,0],[0,255,0],[0,255,0]],\n",
    "        [[0,255,0],[0,255,0],[0,255,0]]        \n",
    "    ]\n",
    "])\n",
    "\n",
    "image_batch.get_shape()\n"
   ]
  },
  {
   "cell_type": "code",
   "execution_count": 2,
   "metadata": {},
   "outputs": [
    {
     "data": {
      "text/plain": [
       "array([[[[  0, 255,   0],\n",
       "         [  0, 255,   0],\n",
       "         [  0, 255,   0]],\n",
       "\n",
       "        [[  0, 255,   0],\n",
       "         [  0, 255,   0],\n",
       "         [  0, 255,   0]]],\n",
       "\n",
       "\n",
       "       [[[  0, 255,   0],\n",
       "         [  0, 255,   0],\n",
       "         [  0, 255,   0]],\n",
       "\n",
       "        [[  0, 255,   0],\n",
       "         [  0, 255,   0],\n",
       "         [  0, 255,   0]]]])"
      ]
     },
     "execution_count": 2,
     "metadata": {},
     "output_type": "execute_result"
    }
   ],
   "source": [
    "sess = tf.Session()\n",
    "sess.run(image_batch)"
   ]
  },
  {
   "cell_type": "markdown",
   "metadata": {},
   "source": [
    "卷积基本操作"
   ]
  },
  {
   "cell_type": "code",
   "execution_count": 4,
   "metadata": {},
   "outputs": [
    {
     "data": {
      "text/plain": [
       "array([[[[ 0.,  0.],\n",
       "         [ 1.,  2.]],\n",
       "\n",
       "        [[ 2.,  4.],\n",
       "         [ 3.,  6.]]],\n",
       "\n",
       "\n",
       "       [[[ 2.,  4.],\n",
       "         [ 4.,  8.]],\n",
       "\n",
       "        [[ 6., 12.],\n",
       "         [ 8., 16.]]]], dtype=float32)"
      ]
     },
     "execution_count": 4,
     "metadata": {},
     "output_type": "execute_result"
    }
   ],
   "source": [
    "input_batch = tf.constant([\n",
    "        [\n",
    "            [[0.0],[1.0]],\n",
    "            [[2.0],[3.0]]\n",
    "        ],\n",
    "        [\n",
    "            [[2.0],[4.0]],\n",
    "            [[6.0],[8.0]]\n",
    "        ]\n",
    "    ])\n",
    "\n",
    "kernel = tf.constant([\n",
    "    [\n",
    "        [[1.0,2.0]]\n",
    "    ]\n",
    "])\n",
    "\n",
    "conv2d = tf.nn.conv2d(input_batch, kernel, strides=[1,1,1,1],padding='SAME')\n",
    "\n",
    "sess.run(conv2d)"
   ]
  },
  {
   "cell_type": "code",
   "execution_count": null,
   "metadata": {
    "collapsed": true
   },
   "outputs": [],
   "source": []
  }
 ],
 "metadata": {
  "kernelspec": {
   "display_name": "Python 3",
   "language": "python",
   "name": "python3"
  },
  "language_info": {
   "codemirror_mode": {
    "name": "ipython",
    "version": 3
   },
   "file_extension": ".py",
   "mimetype": "text/x-python",
   "name": "python",
   "nbconvert_exporter": "python",
   "pygments_lexer": "ipython3",
   "version": "3.6.1"
  }
 },
 "nbformat": 4,
 "nbformat_minor": 2
}
