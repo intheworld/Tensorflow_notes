{
 "cells": [
  {
   "cell_type": "code",
   "execution_count": null,
   "metadata": {},
   "outputs": [],
   "source": [
    "import gym\n",
    "env = gym.make('CarRacing-v0')\n",
    "env.reset()\n",
    "for _ in range(1000):\n",
    "    env.render()\n",
    "    env.step(env.action_space.sample())"
   ]
  },
  {
   "cell_type": "code",
   "execution_count": null,
   "metadata": {},
   "outputs": [],
   "source": [
    "import gym\n",
    "env = gym.make('BipedalWalker-v2')\n",
    "env.reset()\n",
    "for episode in range(100):\n",
    "    observation = env.reset()\n",
    "    \n",
    "    # Render the environment on each step \n",
    "    for i in range(10000):\n",
    "        env.render()\n",
    "            \n",
    "        # we choose action by sampling random action from environment's action space. Every environment has\n",
    "        # some action space which contains the all possible valid actions and observations,\n",
    "        \n",
    "        action = env.action_space.sample()\n",
    "    \n",
    "        # Then for each step, we will record the observation, reward, done, info\n",
    "        observation, reward, done, info = env.step(action)\n",
    "    \n",
    "   # When done is true, we print the time steps taken for the episode and break the current episode.\n",
    "    if done:\n",
    "        print(\"{} timesteps taken for the Episode\".format(i+1))\n",
    "        break"
   ]
  },
  {
   "cell_type": "code",
   "execution_count": null,
   "metadata": {
    "collapsed": true
   },
   "outputs": [],
   "source": []
  }
 ],
 "metadata": {
  "kernelspec": {
   "display_name": "Python 3",
   "language": "python",
   "name": "python3"
  },
  "language_info": {
   "codemirror_mode": {
    "name": "ipython",
    "version": 3
   },
   "file_extension": ".py",
   "mimetype": "text/x-python",
   "name": "python",
   "nbconvert_exporter": "python",
   "pygments_lexer": "ipython3",
   "version": "3.6.1"
  }
 },
 "nbformat": 4,
 "nbformat_minor": 2
}
